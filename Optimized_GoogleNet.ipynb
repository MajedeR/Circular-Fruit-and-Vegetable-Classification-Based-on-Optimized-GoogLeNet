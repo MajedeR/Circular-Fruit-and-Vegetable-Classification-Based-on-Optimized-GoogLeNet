{
  "nbformat": 4,
  "nbformat_minor": 0,
  "metadata": {
    "colab": {
      "provenance": [],
      "collapsed_sections": [
        "pcs3s2gj2Aj5",
        "x7ZLEdBGKTar",
        "VJpKUnWXRhKx",
        "p5GfZzSgjD22",
        "POYn3aiJYQOq"
      ]
    },
    "kernelspec": {
      "name": "python3",
      "display_name": "Python 3"
    },
    "language_info": {
      "name": "python"
    }
  },
  "cells": [
    {
      "cell_type": "markdown",
      "metadata": {
        "id": "pcs3s2gj2Aj5"
      },
      "source": [
        "# Imports"
      ]
    },
    {
      "cell_type": "code",
      "execution_count": null,
      "metadata": {
        "colab": {
          "base_uri": "https://localhost:8080/"
        },
        "id": "T6iWRuE72adn",
        "outputId": "fcfdf695-bd73-429a-8a88-1497d49f40f8"
      },
      "outputs": [
        {
          "output_type": "stream",
          "name": "stdout",
          "text": [
            "Looking in indexes: https://pypi.org/simple, https://us-python.pkg.dev/colab-wheels/public/simple/\n",
            "Collecting keras_cv\n",
            "  Downloading keras_cv-0.4.2-py3-none-any.whl (634 kB)\n",
            "\u001b[2K     \u001b[90m━━━━━━━━━━━━━━━━━━━━━━━━━━━━━━━━━━━━━━━\u001b[0m \u001b[32m634.9/634.9 kB\u001b[0m \u001b[31m8.3 MB/s\u001b[0m eta \u001b[36m0:00:00\u001b[0m\n",
            "\u001b[?25hRequirement already satisfied: packaging in /usr/local/lib/python3.10/dist-packages (from keras_cv) (23.1)\n",
            "Requirement already satisfied: absl-py in /usr/local/lib/python3.10/dist-packages (from keras_cv) (1.4.0)\n",
            "Requirement already satisfied: regex in /usr/local/lib/python3.10/dist-packages (from keras_cv) (2022.10.31)\n",
            "Requirement already satisfied: tensorflow-datasets in /usr/local/lib/python3.10/dist-packages (from keras_cv) (4.8.3)\n",
            "Requirement already satisfied: click in /usr/local/lib/python3.10/dist-packages (from tensorflow-datasets->keras_cv) (8.1.3)\n",
            "Requirement already satisfied: dm-tree in /usr/local/lib/python3.10/dist-packages (from tensorflow-datasets->keras_cv) (0.1.8)\n",
            "Requirement already satisfied: etils[enp,epath]>=0.9.0 in /usr/local/lib/python3.10/dist-packages (from tensorflow-datasets->keras_cv) (1.2.0)\n",
            "Requirement already satisfied: numpy in /usr/local/lib/python3.10/dist-packages (from tensorflow-datasets->keras_cv) (1.22.4)\n",
            "Requirement already satisfied: promise in /usr/local/lib/python3.10/dist-packages (from tensorflow-datasets->keras_cv) (2.3)\n",
            "Requirement already satisfied: protobuf>=3.12.2 in /usr/local/lib/python3.10/dist-packages (from tensorflow-datasets->keras_cv) (3.20.3)\n",
            "Requirement already satisfied: psutil in /usr/local/lib/python3.10/dist-packages (from tensorflow-datasets->keras_cv) (5.9.5)\n",
            "Requirement already satisfied: requests>=2.19.0 in /usr/local/lib/python3.10/dist-packages (from tensorflow-datasets->keras_cv) (2.27.1)\n",
            "Requirement already satisfied: tensorflow-metadata in /usr/local/lib/python3.10/dist-packages (from tensorflow-datasets->keras_cv) (1.13.1)\n",
            "Requirement already satisfied: termcolor in /usr/local/lib/python3.10/dist-packages (from tensorflow-datasets->keras_cv) (2.3.0)\n",
            "Requirement already satisfied: toml in /usr/local/lib/python3.10/dist-packages (from tensorflow-datasets->keras_cv) (0.10.2)\n",
            "Requirement already satisfied: tqdm in /usr/local/lib/python3.10/dist-packages (from tensorflow-datasets->keras_cv) (4.65.0)\n",
            "Requirement already satisfied: wrapt in /usr/local/lib/python3.10/dist-packages (from tensorflow-datasets->keras_cv) (1.14.1)\n",
            "Requirement already satisfied: importlib_resources in /usr/local/lib/python3.10/dist-packages (from etils[enp,epath]>=0.9.0->tensorflow-datasets->keras_cv) (5.12.0)\n",
            "Requirement already satisfied: typing_extensions in /usr/local/lib/python3.10/dist-packages (from etils[enp,epath]>=0.9.0->tensorflow-datasets->keras_cv) (4.5.0)\n",
            "Requirement already satisfied: zipp in /usr/local/lib/python3.10/dist-packages (from etils[enp,epath]>=0.9.0->tensorflow-datasets->keras_cv) (3.15.0)\n",
            "Requirement already satisfied: urllib3<1.27,>=1.21.1 in /usr/local/lib/python3.10/dist-packages (from requests>=2.19.0->tensorflow-datasets->keras_cv) (1.26.15)\n",
            "Requirement already satisfied: certifi>=2017.4.17 in /usr/local/lib/python3.10/dist-packages (from requests>=2.19.0->tensorflow-datasets->keras_cv) (2022.12.7)\n",
            "Requirement already satisfied: charset-normalizer~=2.0.0 in /usr/local/lib/python3.10/dist-packages (from requests>=2.19.0->tensorflow-datasets->keras_cv) (2.0.12)\n",
            "Requirement already satisfied: idna<4,>=2.5 in /usr/local/lib/python3.10/dist-packages (from requests>=2.19.0->tensorflow-datasets->keras_cv) (3.4)\n",
            "Requirement already satisfied: six in /usr/local/lib/python3.10/dist-packages (from promise->tensorflow-datasets->keras_cv) (1.16.0)\n",
            "Requirement already satisfied: googleapis-common-protos<2,>=1.52.0 in /usr/local/lib/python3.10/dist-packages (from tensorflow-metadata->tensorflow-datasets->keras_cv) (1.59.0)\n",
            "Installing collected packages: keras_cv\n",
            "Successfully installed keras_cv-0.4.2\n"
          ]
        }
      ],
      "source": [
        "#install package\n",
        "!pip install keras_cv"
      ]
    },
    {
      "cell_type": "code",
      "execution_count": null,
      "metadata": {
        "id": "xx8EZLCL2D6H"
      },
      "outputs": [],
      "source": [
        "import numpy as np\n",
        "import pandas\n",
        "from keras.utils import np_utils\n",
        "import zipfile\n",
        "import os\n",
        "from tqdm import tqdm\n",
        "from keras.preprocessing.image import ImageDataGenerator\n",
        "from tensorflow import keras\n",
        "from keras.models import Model\n",
        "import tensorflow as tf\n",
        "from keras.layers import Input, Conv2D, MaxPooling2D, AveragePooling2D, Flatten, GlobalAveragePooling2D, Dense, Dropout , BatchNormalization, Activation, concatenate\n",
        "from matplotlib import pyplot as plt"
      ]
    },
    {
      "cell_type": "code",
      "execution_count": null,
      "metadata": {
        "id": "3EPWJdeFKwc3",
        "colab": {
          "base_uri": "https://localhost:8080/"
        },
        "outputId": "74882765-cac4-4ba6-cefc-7c0193da8409"
      },
      "outputs": [
        {
          "output_type": "stream",
          "name": "stdout",
          "text": [
            "You do not have Waymo Open Dataset installed, so KerasCV Waymo metrics are not available.\n"
          ]
        }
      ],
      "source": [
        "from keras_cv.layers import DropBlock2D"
      ]
    },
    {
      "cell_type": "markdown",
      "metadata": {
        "id": "VJpKUnWXRhKx"
      },
      "source": [
        "#Data"
      ]
    },
    {
      "cell_type": "code",
      "execution_count": null,
      "metadata": {
        "id": "9fkyMvIZPrZM"
      },
      "outputs": [],
      "source": [
        "#Data_path\n",
        "train_img_dir = os.path.join(os.getcwd(), '/content/drive/MyDrive/Data_aug_NO_normalized/')"
      ]
    },
    {
      "cell_type": "code",
      "source": [
        "# read Data and Labels\n",
        "\n",
        "dir=train_img_dir\n",
        "classes=[clas.name for clas in os.scandir(dir) if clas.is_dir()]\n",
        "\n",
        "X,y=[],[]\n",
        "for clas in tqdm(classes):\n",
        "    path=os.path.join(dir,clas)\n",
        "    for img in os.listdir(path):\n",
        "        X.append(plt.imread(os.path.join(path,img))[:,:,:3])\n",
        "        y.append(str(clas))"
      ],
      "metadata": {
        "id": "5lBTP4MDA9ZG",
        "colab": {
          "base_uri": "https://localhost:8080/"
        },
        "outputId": "1a6718be-a342-4b0f-ed62-4afb659364db"
      },
      "execution_count": null,
      "outputs": [
        {
          "output_type": "stream",
          "name": "stderr",
          "text": [
            "100%|██████████| 6/6 [05:17<00:00, 52.96s/it]\n"
          ]
        }
      ]
    },
    {
      "cell_type": "code",
      "source": [
        "X=np.array(X)"
      ],
      "metadata": {
        "id": "U9Xu9HD3AgO7"
      },
      "execution_count": null,
      "outputs": []
    },
    {
      "cell_type": "code",
      "source": [
        "#making one-hot output\n",
        "Y=pandas.get_dummies(y)"
      ],
      "metadata": {
        "id": "HFw5yZ-HKFqX"
      },
      "execution_count": null,
      "outputs": []
    },
    {
      "cell_type": "code",
      "source": [
        "#split data to train, test\n",
        "from sklearn.model_selection import train_test_split\n",
        "X_train, X_test, y_train, y_test = train_test_split(X, Y, test_size=0.2,shuffle=True)"
      ],
      "metadata": {
        "id": "cIPv0utGMq4s"
      },
      "execution_count": null,
      "outputs": []
    },
    {
      "cell_type": "code",
      "source": [
        "#split test dataset to test,validation\n",
        "\n",
        "X_test, X_val, y_test, y_val = train_test_split(X_test, y_test, test_size=0.5,shuffle=True)"
      ],
      "metadata": {
        "id": "mz2n1isjMwu3"
      },
      "execution_count": null,
      "outputs": []
    },
    {
      "cell_type": "markdown",
      "metadata": {
        "id": "p5GfZzSgjD22"
      },
      "source": [
        "# Model"
      ]
    },
    {
      "cell_type": "code",
      "execution_count": null,
      "metadata": {
        "id": "2Ii0dMPQPFMG"
      },
      "outputs": [],
      "source": [
        "#def for rate in DropBlock2D\n",
        "\n",
        "def rate_fun(k_prob,f_size):\n",
        "  rate_num=((1-k_prob)/(7**2))*((f_size**2)/(f_size-7+1))\n",
        "  return rate_num"
      ]
    },
    {
      "cell_type": "code",
      "execution_count": null,
      "metadata": {
        "id": "WOPZHsPb737Y"
      },
      "outputs": [],
      "source": [
        "#DenseLayer function\n",
        "\n",
        "def DenseLayer(input_layer,rate):\n",
        "  conv1 = Conv2D(32, kernel_size = (1,1),padding=\"same\")(input_layer)\n",
        "  BN1=BatchNormalization()(conv1)\n",
        "  AF1=Activation(activation=\"swish\")(BN1)\n",
        "  DB1=DropBlock2D(rate,block_size=7)(AF1)\n",
        "  conv2 = Conv2D(32, kernel_size = (1,1),padding=\"same\")(DB1)\n",
        "  BN2=BatchNormalization()(conv2)\n",
        "  AF2=Activation(activation=\"swish\")(BN2)\n",
        "  DB2=DropBlock2D(rate,block_size=7)(AF2)\n",
        "  output=DB2\n",
        "  return output\n"
      ]
    },
    {
      "cell_type": "code",
      "execution_count": null,
      "metadata": {
        "id": "B905OTjio88W"
      },
      "outputs": [],
      "source": [
        "#DenseBlock function\n",
        "\n",
        "def DenseBlock(input_layer,rate):\n",
        "  DenseLayer1=DenseLayer(input_layer,rate)\n",
        "  in1 = concatenate([DenseLayer1, input_layer], axis=-1)\n",
        "  DenseLayer2=DenseLayer(in1,rate)\n",
        "  in2 = concatenate([DenseLayer2, in1], axis=-1)\n",
        "  DenseLayer3=DenseLayer(in2,rate)\n",
        "  in3 = concatenate([DenseLayer3, in2], axis=-1)\n",
        "  DenseLayer4=DenseLayer(in3,rate)\n",
        "  in4 = concatenate([DenseLayer4, in3], axis=-1)\n",
        "  output=in4\n",
        "  return output\n"
      ]
    },
    {
      "cell_type": "code",
      "execution_count": null,
      "metadata": {
        "id": "fc8Hfzvmjgv4"
      },
      "outputs": [],
      "source": [
        "#Dense Inception function\n",
        "\n",
        "def D_Inception_block(input_layer, f1, f2_conv1,rate ):\n",
        "\n",
        "  Iconv1 = Conv2D(filters=f1, kernel_size = (1,1), padding = 'same', activation = 'swish')(input_layer)\n",
        "  Iconv1=DropBlock2D(rate,block_size=7)(Iconv1)\n",
        "  Dense=DenseBlock(input_layer,rate)\n",
        "  Iconv2 = Conv2D(filters = f2_conv1, kernel_size = (3,3), padding = 'same', activation = 'swish')(input_layer)\n",
        "  Iconv2=DropBlock2D(rate,block_size=7)(Iconv2)\n",
        "\n",
        "  output_layer = concatenate([Iconv1,Dense, Iconv2], axis = -1)\n",
        "\n",
        "  return output_layer"
      ]
    },
    {
      "cell_type": "code",
      "execution_count": null,
      "metadata": {
        "id": "HctvABMujgv6"
      },
      "outputs": [],
      "source": [
        "# optimized GoogLeNet model function\n",
        "\n",
        "def optimized_GoogLeNet():\n",
        "  # input layer\n",
        "  input_layer = Input(shape = (100, 100, 3))\n",
        "\n",
        "  # convolutional layer: filters = 32, kernel_size = (7,7)\n",
        "  X = Conv2D(filters = 32, kernel_size = (7,7),strides = 2,padding=\"same\")(input_layer)\n",
        "  X=BatchNormalization()(X)\n",
        "  X=Activation(activation=\"swish\")(X)\n",
        "  rate1=rate_fun(0.95,32)\n",
        "  X=DropBlock2D(rate1,block_size=7)(X)\n",
        "\n",
        "\n",
        "  # max-pooling layer: pool_size = (3,3), strides = 1\n",
        "  X = MaxPooling2D(pool_size = (3,3), strides = 1,padding=\"same\")(X)\n",
        "\n",
        "  # convolutional layer: filters = 32, kernel_size = (1,1)\n",
        "  X = Conv2D(filters = 32, kernel_size = (1,1))(X)\n",
        "  X=BatchNormalization()(X)\n",
        "  X=Activation(activation=\"swish\")(X)\n",
        "  X=DropBlock2D(rate1,block_size=7)(X)\n",
        "\n",
        "\n",
        "  # max-pooling layer: pool_size = (3,3), strides = 2\n",
        "  X = MaxPooling2D(pool_size = (3,3), strides = 2,padding=\"same\")(X)\n",
        "\n",
        "  # 1st Inception block\n",
        "  rate2=rate_fun(0.9,32)\n",
        "  X = D_Inception_block(X, f1 = 32, f2_conv1 = 32 , rate=rate2)\n",
        "\n",
        "  # 2nd Inception block\n",
        "  X = D_Inception_block(X, f1 = 32, f2_conv1 = 32,rate=rate2)\n",
        "\n",
        "  # max-pooling layer: pool_size = (3,3), strides = 2\n",
        "  X = MaxPooling2D(pool_size = (3,3), strides = 2,padding=\"same\")(X)\n",
        "\n",
        "  # 3rd Inception block\n",
        "  rate3=rate_fun(0.85,64)\n",
        "  X = D_Inception_block(X, f1 = 64, f2_conv1 = 64,rate=rate3)\n",
        "\n",
        "  # 4th Inception block\n",
        "  X = D_Inception_block(X, f1 = 64, f2_conv1 = 64,rate=rate3)\n",
        "\n",
        "  # max-pooling layer: pool_size = (3,3), strides = 2\n",
        "  X = MaxPooling2D(pool_size = (3,3), strides = 2,padding=\"same\")(X)\n",
        "\n",
        "  # 5th Inception block\n",
        "  rate4=rate_fun(0.8,128)\n",
        "  X = D_Inception_block(X, f1 = 128, f2_conv1 = 128,rate=rate4)\n",
        "  # 6th Inception block\n",
        "  X = D_Inception_block(X, f1 = 128, f2_conv1 = 128,rate=rate4)\n",
        "\n",
        "# Average-pooling layer: pool_size = (7,7), strides = 1\n",
        "  X1 = AveragePooling2D(pool_size = (7,7), strides = 1)(X)\n",
        "\n",
        "  X1 = Flatten()(X1)\n",
        "  X1 = Dense(512, activation = 'swish')(X1)\n",
        "  X1 = Dropout(0.6)(X1)\n",
        "  X1 = Dense(6, activation = 'softmax')(X1)\n",
        "\n",
        "\n",
        "\n",
        "  # model\n",
        "  model = Model(input_layer, X1, name = 'GoogLeNet')\n",
        "\n",
        "  return model"
      ]
    },
    {
      "cell_type": "code",
      "execution_count": null,
      "metadata": {
        "id": "gkUmjtxCjgv7"
      },
      "outputs": [],
      "source": [
        "model=optimized_GoogLeNet()"
      ]
    },
    {
      "cell_type": "code",
      "execution_count": null,
      "metadata": {
        "id": "dbzkRCFXOVL5"
      },
      "outputs": [],
      "source": [
        "from keras.callbacks import ReduceLROnPlateau\n",
        "reduce_lr=ReduceLROnPlateau(monitor='accuracy',factor=0.9,patience=2)"
      ]
    },
    {
      "cell_type": "code",
      "execution_count": null,
      "metadata": {
        "id": "X4gL-ZLVjgv9"
      },
      "outputs": [],
      "source": [
        "optimizer = keras.optimizers.Adam(learning_rate=0.01)\n",
        "model.compile(optimizer=optimizer, loss=\"categorical_crossentropy\", metrics=[\"accuracy\"])"
      ]
    },
    {
      "cell_type": "code",
      "execution_count": null,
      "metadata": {
        "id": "4z5y1AAFjgv9",
        "colab": {
          "base_uri": "https://localhost:8080/"
        },
        "outputId": "8d1c191b-5d92-4c46-d008-44fa23c2104f"
      },
      "outputs": [
        {
          "output_type": "stream",
          "name": "stdout",
          "text": [
            "Epoch 1/200\n",
            "161/161 [==============================] - 116s 225ms/step - loss: 7.7486 - accuracy: 0.6863 - val_loss: 3.2077 - val_accuracy: 0.4845 - lr: 0.0100\n",
            "Epoch 2/200\n",
            "161/161 [==============================] - 31s 195ms/step - loss: 0.3740 - accuracy: 0.8703 - val_loss: 0.9074 - val_accuracy: 0.7671 - lr: 0.0100\n",
            "Epoch 3/200\n",
            "161/161 [==============================] - 31s 190ms/step - loss: 0.1411 - accuracy: 0.9549 - val_loss: 0.1084 - val_accuracy: 0.9627 - lr: 0.0100\n",
            "Epoch 4/200\n",
            "161/161 [==============================] - 30s 188ms/step - loss: 0.0992 - accuracy: 0.9683 - val_loss: 0.1085 - val_accuracy: 0.9534 - lr: 0.0100\n",
            "Epoch 5/200\n",
            "161/161 [==============================] - 30s 184ms/step - loss: 0.0674 - accuracy: 0.9783 - val_loss: 0.0434 - val_accuracy: 0.9860 - lr: 0.0100\n",
            "Epoch 6/200\n",
            "161/161 [==============================] - 30s 184ms/step - loss: 0.0708 - accuracy: 0.9775 - val_loss: 0.0667 - val_accuracy: 0.9689 - lr: 0.0100\n",
            "Epoch 7/200\n",
            "161/161 [==============================] - 30s 185ms/step - loss: 0.0995 - accuracy: 0.9751 - val_loss: 0.0189 - val_accuracy: 0.9907 - lr: 0.0100\n",
            "Epoch 8/200\n",
            "161/161 [==============================] - 30s 186ms/step - loss: 0.0922 - accuracy: 0.9731 - val_loss: 1.4432 - val_accuracy: 0.7252 - lr: 0.0090\n",
            "Epoch 9/200\n",
            "161/161 [==============================] - 30s 185ms/step - loss: 0.0574 - accuracy: 0.9847 - val_loss: 0.0036 - val_accuracy: 0.9969 - lr: 0.0090\n",
            "Epoch 10/200\n",
            "161/161 [==============================] - 30s 183ms/step - loss: 0.0494 - accuracy: 0.9869 - val_loss: 0.2232 - val_accuracy: 0.9332 - lr: 0.0090\n",
            "Epoch 11/200\n",
            "161/161 [==============================] - 30s 189ms/step - loss: 0.0222 - accuracy: 0.9939 - val_loss: 0.0204 - val_accuracy: 0.9907 - lr: 0.0090\n",
            "Epoch 12/200\n",
            "161/161 [==============================] - 30s 186ms/step - loss: 0.2110 - accuracy: 0.9445 - val_loss: 1.1124 - val_accuracy: 0.7935 - lr: 0.0090\n",
            "Epoch 13/200\n",
            "161/161 [==============================] - 30s 185ms/step - loss: 0.0681 - accuracy: 0.9810 - val_loss: 0.0021 - val_accuracy: 0.9984 - lr: 0.0090\n",
            "Epoch 14/200\n",
            "161/161 [==============================] - 30s 186ms/step - loss: 0.0419 - accuracy: 0.9891 - val_loss: 0.0058 - val_accuracy: 0.9984 - lr: 0.0081\n",
            "Epoch 15/200\n",
            "161/161 [==============================] - 30s 186ms/step - loss: 0.0557 - accuracy: 0.9874 - val_loss: 4.9716 - val_accuracy: 0.6289 - lr: 0.0081\n",
            "Epoch 16/200\n",
            "161/161 [==============================] - 30s 186ms/step - loss: 0.1830 - accuracy: 0.9582 - val_loss: 45.9227 - val_accuracy: 0.4394 - lr: 0.0073\n",
            "Epoch 17/200\n",
            "161/161 [==============================] - 29s 183ms/step - loss: 0.2683 - accuracy: 0.9282 - val_loss: 0.0751 - val_accuracy: 0.9658 - lr: 0.0073\n",
            "Epoch 18/200\n",
            "161/161 [==============================] - 29s 183ms/step - loss: 0.0859 - accuracy: 0.9747 - val_loss: 0.0438 - val_accuracy: 0.9953 - lr: 0.0066\n",
            "Epoch 19/200\n",
            "161/161 [==============================] - 30s 185ms/step - loss: 0.0639 - accuracy: 0.9840 - val_loss: 0.0808 - val_accuracy: 0.9876 - lr: 0.0066\n",
            "Epoch 20/200\n",
            "161/161 [==============================] - 31s 190ms/step - loss: 0.0283 - accuracy: 0.9927 - val_loss: 0.0513 - val_accuracy: 0.9938 - lr: 0.0059\n",
            "Epoch 21/200\n",
            "161/161 [==============================] - 29s 183ms/step - loss: 0.0492 - accuracy: 0.9888 - val_loss: 0.0882 - val_accuracy: 0.9891 - lr: 0.0059\n",
            "Epoch 22/200\n",
            "161/161 [==============================] - 30s 188ms/step - loss: 0.0293 - accuracy: 0.9920 - val_loss: 0.0521 - val_accuracy: 0.9953 - lr: 0.0053\n",
            "Epoch 23/200\n",
            "161/161 [==============================] - 30s 184ms/step - loss: 0.0379 - accuracy: 0.9919 - val_loss: 0.1268 - val_accuracy: 0.9907 - lr: 0.0053\n",
            "Epoch 24/200\n",
            "161/161 [==============================] - 30s 185ms/step - loss: 0.0296 - accuracy: 0.9925 - val_loss: 0.0411 - val_accuracy: 0.9907 - lr: 0.0048\n",
            "Epoch 25/200\n",
            "161/161 [==============================] - 30s 183ms/step - loss: 0.0269 - accuracy: 0.9938 - val_loss: 0.0317 - val_accuracy: 0.9953 - lr: 0.0048\n",
            "Epoch 26/200\n",
            "161/161 [==============================] - 30s 185ms/step - loss: 0.0256 - accuracy: 0.9933 - val_loss: 0.0382 - val_accuracy: 0.9953 - lr: 0.0043\n",
            "Epoch 27/200\n",
            "161/161 [==============================] - 30s 184ms/step - loss: 0.0250 - accuracy: 0.9955 - val_loss: 0.0594 - val_accuracy: 0.9876 - lr: 0.0043\n",
            "Epoch 28/200\n",
            "161/161 [==============================] - 30s 187ms/step - loss: 0.0641 - accuracy: 0.9860 - val_loss: 0.1730 - val_accuracy: 0.9752 - lr: 0.0043\n",
            "Epoch 29/200\n",
            "161/161 [==============================] - 31s 190ms/step - loss: 0.0255 - accuracy: 0.9946 - val_loss: 0.0544 - val_accuracy: 0.9829 - lr: 0.0043\n",
            "Epoch 30/200\n",
            "161/161 [==============================] - 30s 185ms/step - loss: 0.0252 - accuracy: 0.9941 - val_loss: 0.0032 - val_accuracy: 0.9984 - lr: 0.0039\n",
            "Epoch 31/200\n",
            "161/161 [==============================] - 29s 183ms/step - loss: 0.0190 - accuracy: 0.9949 - val_loss: 0.0279 - val_accuracy: 0.9953 - lr: 0.0039\n",
            "Epoch 32/200\n",
            "161/161 [==============================] - 29s 183ms/step - loss: 0.0353 - accuracy: 0.9919 - val_loss: 0.0517 - val_accuracy: 0.9953 - lr: 0.0035\n",
            "Epoch 33/200\n",
            "161/161 [==============================] - 30s 183ms/step - loss: 0.0212 - accuracy: 0.9943 - val_loss: 0.0548 - val_accuracy: 0.9953 - lr: 0.0035\n",
            "Epoch 34/200\n",
            "161/161 [==============================] - 30s 185ms/step - loss: 0.0104 - accuracy: 0.9978 - val_loss: 1.3307e-04 - val_accuracy: 1.0000 - lr: 0.0031\n",
            "Epoch 35/200\n",
            "161/161 [==============================] - 30s 186ms/step - loss: 0.0097 - accuracy: 0.9981 - val_loss: 2.2429e-06 - val_accuracy: 1.0000 - lr: 0.0031\n",
            "Epoch 36/200\n",
            "161/161 [==============================] - 30s 184ms/step - loss: 0.0268 - accuracy: 0.9966 - val_loss: 0.0544 - val_accuracy: 0.9907 - lr: 0.0031\n",
            "Epoch 37/200\n",
            "161/161 [==============================] - 29s 182ms/step - loss: 0.0141 - accuracy: 0.9960 - val_loss: 0.0133 - val_accuracy: 0.9969 - lr: 0.0031\n",
            "Epoch 38/200\n",
            "161/161 [==============================] - 30s 186ms/step - loss: 0.0117 - accuracy: 0.9970 - val_loss: 0.0495 - val_accuracy: 0.9953 - lr: 0.0028\n",
            "Epoch 39/200\n",
            "161/161 [==============================] - 29s 183ms/step - loss: 0.0165 - accuracy: 0.9965 - val_loss: 0.0360 - val_accuracy: 0.9938 - lr: 0.0028\n",
            "Epoch 40/200\n",
            "161/161 [==============================] - 29s 183ms/step - loss: 0.0116 - accuracy: 0.9971 - val_loss: 0.0543 - val_accuracy: 0.9953 - lr: 0.0025\n",
            "Epoch 41/200\n",
            "161/161 [==============================] - 30s 184ms/step - loss: 0.0097 - accuracy: 0.9976 - val_loss: 0.0394 - val_accuracy: 0.9969 - lr: 0.0025\n",
            "Epoch 42/200\n",
            "161/161 [==============================] - 30s 186ms/step - loss: 0.0081 - accuracy: 0.9978 - val_loss: 0.0493 - val_accuracy: 0.9953 - lr: 0.0023\n",
            "Epoch 43/200\n",
            "161/161 [==============================] - 30s 185ms/step - loss: 0.0143 - accuracy: 0.9967 - val_loss: 0.0291 - val_accuracy: 0.9938 - lr: 0.0023\n",
            "Epoch 44/200\n",
            "161/161 [==============================] - 30s 185ms/step - loss: 0.0110 - accuracy: 0.9981 - val_loss: 0.0073 - val_accuracy: 0.9969 - lr: 0.0021\n",
            "Epoch 45/200\n",
            "161/161 [==============================] - 30s 185ms/step - loss: 0.0050 - accuracy: 0.9990 - val_loss: 0.0391 - val_accuracy: 0.9969 - lr: 0.0021\n",
            "Epoch 46/200\n",
            "161/161 [==============================] - 29s 183ms/step - loss: 0.0090 - accuracy: 0.9979 - val_loss: 0.0098 - val_accuracy: 0.9969 - lr: 0.0021\n",
            "Epoch 47/200\n",
            "161/161 [==============================] - 30s 189ms/step - loss: 0.0181 - accuracy: 0.9966 - val_loss: 0.0378 - val_accuracy: 0.9953 - lr: 0.0021\n",
            "Epoch 48/200\n",
            "161/161 [==============================] - 29s 182ms/step - loss: 0.0141 - accuracy: 0.9965 - val_loss: 0.0235 - val_accuracy: 0.9969 - lr: 0.0019\n",
            "Epoch 49/200\n",
            "161/161 [==============================] - 30s 186ms/step - loss: 0.0063 - accuracy: 0.9989 - val_loss: 5.5989e-04 - val_accuracy: 1.0000 - lr: 0.0019\n",
            "Epoch 50/200\n",
            "161/161 [==============================] - 30s 184ms/step - loss: 0.0068 - accuracy: 0.9984 - val_loss: 0.0601 - val_accuracy: 0.9907 - lr: 0.0017\n",
            "Epoch 51/200\n",
            "161/161 [==============================] - 30s 183ms/step - loss: 0.0099 - accuracy: 0.9981 - val_loss: 0.0328 - val_accuracy: 0.9969 - lr: 0.0017\n",
            "Epoch 52/200\n",
            "161/161 [==============================] - 30s 184ms/step - loss: 0.0352 - accuracy: 0.9947 - val_loss: 0.0172 - val_accuracy: 0.9984 - lr: 0.0015\n",
            "Epoch 53/200\n",
            "161/161 [==============================] - 30s 185ms/step - loss: 0.0068 - accuracy: 0.9986 - val_loss: 0.0377 - val_accuracy: 0.9969 - lr: 0.0015\n",
            "Epoch 54/200\n",
            "161/161 [==============================] - 29s 182ms/step - loss: 0.0043 - accuracy: 0.9991 - val_loss: 0.0308 - val_accuracy: 0.9969 - lr: 0.0014\n",
            "Epoch 55/200\n",
            "161/161 [==============================] - 30s 184ms/step - loss: 0.0120 - accuracy: 0.9976 - val_loss: 0.0178 - val_accuracy: 0.9969 - lr: 0.0014\n",
            "Epoch 56/200\n",
            "161/161 [==============================] - 31s 190ms/step - loss: 0.0045 - accuracy: 0.9986 - val_loss: 0.0215 - val_accuracy: 0.9969 - lr: 0.0012\n",
            "Epoch 57/200\n",
            "161/161 [==============================] - 29s 183ms/step - loss: 0.0050 - accuracy: 0.9987 - val_loss: 0.0257 - val_accuracy: 0.9969 - lr: 0.0012\n",
            "Epoch 58/200\n",
            "161/161 [==============================] - 29s 182ms/step - loss: 0.0063 - accuracy: 0.9982 - val_loss: 0.0174 - val_accuracy: 0.9984 - lr: 0.0011\n",
            "Epoch 59/200\n",
            "161/161 [==============================] - 30s 185ms/step - loss: 0.0035 - accuracy: 0.9990 - val_loss: 0.0295 - val_accuracy: 0.9969 - lr: 0.0011\n",
            "Epoch 60/200\n",
            "161/161 [==============================] - 30s 185ms/step - loss: 0.0037 - accuracy: 0.9991 - val_loss: 0.0357 - val_accuracy: 0.9969 - lr: 9.8477e-04\n",
            "Epoch 61/200\n",
            "161/161 [==============================] - 30s 184ms/step - loss: 0.0032 - accuracy: 0.9993 - val_loss: 0.0300 - val_accuracy: 0.9969 - lr: 9.8477e-04\n",
            "Epoch 62/200\n",
            "161/161 [==============================] - 30s 185ms/step - loss: 0.0047 - accuracy: 0.9991 - val_loss: 0.0745 - val_accuracy: 0.9922 - lr: 9.8477e-04\n",
            "Epoch 63/200\n",
            "161/161 [==============================] - 30s 184ms/step - loss: 0.0072 - accuracy: 0.9984 - val_loss: 0.0317 - val_accuracy: 0.9969 - lr: 9.8477e-04\n",
            "Epoch 64/200\n",
            "161/161 [==============================] - 30s 183ms/step - loss: 0.0035 - accuracy: 0.9990 - val_loss: 0.0791 - val_accuracy: 0.9922 - lr: 8.8629e-04\n",
            "Epoch 65/200\n",
            "161/161 [==============================] - 30s 189ms/step - loss: 0.0036 - accuracy: 0.9990 - val_loss: 0.0365 - val_accuracy: 0.9969 - lr: 8.8629e-04\n",
            "Epoch 66/200\n",
            "161/161 [==============================] - 30s 185ms/step - loss: 0.0030 - accuracy: 0.9990 - val_loss: 0.0293 - val_accuracy: 0.9969 - lr: 7.9766e-04\n",
            "Epoch 67/200\n",
            "161/161 [==============================] - 29s 183ms/step - loss: 0.0026 - accuracy: 0.9989 - val_loss: 3.0306e-05 - val_accuracy: 1.0000 - lr: 7.9766e-04\n",
            "Epoch 68/200\n",
            "161/161 [==============================] - 29s 183ms/step - loss: 0.0045 - accuracy: 0.9994 - val_loss: 0.0113 - val_accuracy: 0.9969 - lr: 7.1790e-04\n",
            "Epoch 69/200\n",
            "161/161 [==============================] - 30s 185ms/step - loss: 0.0013 - accuracy: 0.9997 - val_loss: 0.0108 - val_accuracy: 0.9969 - lr: 7.1790e-04\n",
            "Epoch 70/200\n",
            "161/161 [==============================] - 30s 185ms/step - loss: 0.0017 - accuracy: 0.9995 - val_loss: 0.0214 - val_accuracy: 0.9969 - lr: 7.1790e-04\n",
            "Epoch 71/200\n",
            "161/161 [==============================] - 30s 184ms/step - loss: 0.0068 - accuracy: 0.9987 - val_loss: 1.6084 - val_accuracy: 0.8804 - lr: 7.1790e-04\n",
            "Epoch 72/200\n",
            "161/161 [==============================] - 30s 184ms/step - loss: 0.0071 - accuracy: 0.9983 - val_loss: 0.0212 - val_accuracy: 0.9969 - lr: 6.4611e-04\n",
            "Epoch 73/200\n",
            "161/161 [==============================] - 30s 185ms/step - loss: 0.0070 - accuracy: 0.9987 - val_loss: 0.0416 - val_accuracy: 0.9969 - lr: 6.4611e-04\n",
            "Epoch 74/200\n",
            "161/161 [==============================] - 30s 186ms/step - loss: 0.0059 - accuracy: 0.9993 - val_loss: 2.3897e-04 - val_accuracy: 1.0000 - lr: 5.8150e-04\n",
            "Epoch 75/200\n",
            "161/161 [==============================] - 30s 186ms/step - loss: 0.0012 - accuracy: 0.9998 - val_loss: 0.0168 - val_accuracy: 0.9969 - lr: 5.8150e-04\n",
            "Epoch 76/200\n",
            "161/161 [==============================] - 30s 185ms/step - loss: 0.0042 - accuracy: 0.9988 - val_loss: 0.0498 - val_accuracy: 0.9953 - lr: 5.2335e-04\n",
            "Epoch 77/200\n",
            "161/161 [==============================] - 30s 185ms/step - loss: 0.0016 - accuracy: 0.9997 - val_loss: 0.0408 - val_accuracy: 0.9953 - lr: 5.2335e-04\n",
            "Epoch 78/200\n",
            "161/161 [==============================] - 29s 183ms/step - loss: 0.0039 - accuracy: 0.9987 - val_loss: 0.0159 - val_accuracy: 0.9969 - lr: 4.7101e-04\n",
            "Epoch 79/200\n",
            "161/161 [==============================] - 29s 183ms/step - loss: 0.0017 - accuracy: 0.9995 - val_loss: 0.0143 - val_accuracy: 0.9984 - lr: 4.7101e-04\n",
            "Epoch 80/200\n",
            "161/161 [==============================] - 29s 182ms/step - loss: 0.0041 - accuracy: 0.9992 - val_loss: 0.0160 - val_accuracy: 0.9969 - lr: 4.2391e-04\n",
            "Epoch 81/200\n",
            "161/161 [==============================] - 30s 186ms/step - loss: 0.0017 - accuracy: 0.9997 - val_loss: 0.0146 - val_accuracy: 0.9984 - lr: 4.2391e-04\n",
            "Epoch 82/200\n",
            "161/161 [==============================] - 30s 186ms/step - loss: 0.0068 - accuracy: 0.9992 - val_loss: 0.0183 - val_accuracy: 0.9969 - lr: 3.8152e-04\n",
            "Epoch 83/200\n",
            "161/161 [==============================] - 29s 183ms/step - loss: 0.0022 - accuracy: 0.9992 - val_loss: 0.0366 - val_accuracy: 0.9969 - lr: 3.8152e-04\n",
            "Epoch 84/200\n",
            "161/161 [==============================] - 30s 185ms/step - loss: 0.0015 - accuracy: 0.9995 - val_loss: 0.0265 - val_accuracy: 0.9969 - lr: 3.4337e-04\n",
            "Epoch 85/200\n",
            "161/161 [==============================] - 30s 185ms/step - loss: 0.0041 - accuracy: 0.9991 - val_loss: 0.0263 - val_accuracy: 0.9969 - lr: 3.4337e-04\n",
            "Epoch 86/200\n",
            "161/161 [==============================] - 30s 185ms/step - loss: 0.0024 - accuracy: 0.9996 - val_loss: 0.0253 - val_accuracy: 0.9969 - lr: 3.0903e-04\n",
            "Epoch 87/200\n",
            "161/161 [==============================] - 30s 185ms/step - loss: 0.0048 - accuracy: 0.9989 - val_loss: 0.0182 - val_accuracy: 0.9984 - lr: 3.0903e-04\n",
            "Epoch 88/200\n",
            "161/161 [==============================] - 30s 185ms/step - loss: 0.0025 - accuracy: 0.9992 - val_loss: 0.0196 - val_accuracy: 0.9984 - lr: 2.7813e-04\n",
            "Epoch 89/200\n",
            "161/161 [==============================] - 29s 183ms/step - loss: 0.0014 - accuracy: 0.9997 - val_loss: 0.0206 - val_accuracy: 0.9969 - lr: 2.7813e-04\n",
            "Epoch 90/200\n",
            "161/161 [==============================] - 30s 184ms/step - loss: 0.0026 - accuracy: 0.9993 - val_loss: 0.0216 - val_accuracy: 0.9969 - lr: 2.5032e-04\n",
            "Epoch 91/200\n",
            "161/161 [==============================] - 30s 185ms/step - loss: 0.0013 - accuracy: 0.9998 - val_loss: 0.0220 - val_accuracy: 0.9969 - lr: 2.5032e-04\n",
            "Epoch 92/200\n",
            "161/161 [==============================] - 30s 185ms/step - loss: 9.6956e-04 - accuracy: 0.9998 - val_loss: 0.0192 - val_accuracy: 0.9984 - lr: 2.2528e-04\n",
            "Epoch 93/200\n",
            "161/161 [==============================] - 31s 190ms/step - loss: 0.0012 - accuracy: 0.9998 - val_loss: 0.0272 - val_accuracy: 0.9969 - lr: 2.2528e-04\n",
            "Epoch 94/200\n",
            "161/161 [==============================] - 30s 187ms/step - loss: 0.0038 - accuracy: 0.9996 - val_loss: 0.0282 - val_accuracy: 0.9969 - lr: 2.0276e-04\n",
            "Epoch 95/200\n",
            "161/161 [==============================] - 30s 185ms/step - loss: 0.0017 - accuracy: 0.9997 - val_loss: 0.0165 - val_accuracy: 0.9984 - lr: 2.0276e-04\n",
            "Epoch 96/200\n",
            "161/161 [==============================] - 30s 184ms/step - loss: 6.5942e-04 - accuracy: 0.9999 - val_loss: 0.0166 - val_accuracy: 0.9984 - lr: 1.8248e-04\n",
            "Epoch 97/200\n",
            "161/161 [==============================] - 29s 183ms/step - loss: 0.0017 - accuracy: 0.9996 - val_loss: 0.0194 - val_accuracy: 0.9984 - lr: 1.8248e-04\n",
            "Epoch 98/200\n",
            "161/161 [==============================] - 30s 184ms/step - loss: 5.5770e-04 - accuracy: 0.9999 - val_loss: 0.0198 - val_accuracy: 0.9984 - lr: 1.8248e-04\n",
            "Epoch 99/200\n",
            "161/161 [==============================] - 30s 184ms/step - loss: 0.0015 - accuracy: 0.9996 - val_loss: 0.0231 - val_accuracy: 0.9969 - lr: 1.6423e-04\n",
            "Epoch 100/200\n",
            "161/161 [==============================] - 30s 187ms/step - loss: 0.0021 - accuracy: 0.9993 - val_loss: 0.0169 - val_accuracy: 0.9984 - lr: 1.6423e-04\n",
            "Epoch 101/200\n",
            "161/161 [==============================] - 30s 187ms/step - loss: 0.0013 - accuracy: 0.9997 - val_loss: 0.0179 - val_accuracy: 0.9984 - lr: 1.4781e-04\n",
            "Epoch 102/200\n",
            "161/161 [==============================] - 31s 190ms/step - loss: 0.0020 - accuracy: 0.9996 - val_loss: 0.0117 - val_accuracy: 0.9984 - lr: 1.4781e-04\n",
            "Epoch 103/200\n",
            "161/161 [==============================] - 30s 183ms/step - loss: 0.0017 - accuracy: 0.9996 - val_loss: 0.0115 - val_accuracy: 0.9984 - lr: 1.3303e-04\n",
            "Epoch 104/200\n",
            "161/161 [==============================] - 30s 185ms/step - loss: 0.0029 - accuracy: 0.9996 - val_loss: 0.0178 - val_accuracy: 0.9984 - lr: 1.3303e-04\n",
            "Epoch 105/200\n",
            "161/161 [==============================] - 30s 186ms/step - loss: 6.3690e-04 - accuracy: 0.9998 - val_loss: 0.0162 - val_accuracy: 0.9984 - lr: 1.1973e-04\n",
            "Epoch 106/200\n",
            "161/161 [==============================] - 30s 187ms/step - loss: 0.0015 - accuracy: 0.9997 - val_loss: 0.0160 - val_accuracy: 0.9984 - lr: 1.1973e-04\n",
            "Epoch 107/200\n",
            "161/161 [==============================] - 30s 186ms/step - loss: 0.0011 - accuracy: 0.9997 - val_loss: 0.0162 - val_accuracy: 0.9984 - lr: 1.0775e-04\n",
            "Epoch 108/200\n",
            "161/161 [==============================] - 30s 184ms/step - loss: 9.6977e-04 - accuracy: 0.9998 - val_loss: 0.0148 - val_accuracy: 0.9984 - lr: 1.0775e-04\n",
            "Epoch 109/200\n",
            "161/161 [==============================] - 30s 185ms/step - loss: 0.0012 - accuracy: 0.9997 - val_loss: 0.0162 - val_accuracy: 0.9984 - lr: 9.6977e-05\n",
            "Epoch 110/200\n",
            "161/161 [==============================] - 29s 183ms/step - loss: 0.0028 - accuracy: 0.9995 - val_loss: 0.0174 - val_accuracy: 0.9984 - lr: 9.6977e-05\n",
            "Epoch 111/200\n",
            "161/161 [==============================] - 30s 187ms/step - loss: 9.2046e-04 - accuracy: 0.9998 - val_loss: 0.0174 - val_accuracy: 0.9984 - lr: 8.7280e-05\n",
            "Epoch 112/200\n",
            "161/161 [==============================] - 30s 188ms/step - loss: 9.9373e-04 - accuracy: 0.9998 - val_loss: 0.0173 - val_accuracy: 0.9984 - lr: 8.7280e-05\n",
            "Epoch 113/200\n",
            "161/161 [==============================] - 30s 187ms/step - loss: 0.0021 - accuracy: 0.9995 - val_loss: 0.0168 - val_accuracy: 0.9984 - lr: 7.8552e-05\n",
            "Epoch 114/200\n",
            "161/161 [==============================] - 30s 186ms/step - loss: 0.0016 - accuracy: 0.9997 - val_loss: 0.0169 - val_accuracy: 0.9984 - lr: 7.8552e-05\n",
            "Epoch 115/200\n",
            "161/161 [==============================] - 30s 184ms/step - loss: 0.0052 - accuracy: 0.9993 - val_loss: 0.0242 - val_accuracy: 0.9969 - lr: 7.0697e-05\n",
            "Epoch 116/200\n",
            "161/161 [==============================] - 29s 183ms/step - loss: 0.0022 - accuracy: 0.9995 - val_loss: 0.0205 - val_accuracy: 0.9969 - lr: 7.0697e-05\n",
            "Epoch 117/200\n",
            "161/161 [==============================] - 30s 186ms/step - loss: 0.0011 - accuracy: 0.9998 - val_loss: 0.0198 - val_accuracy: 0.9969 - lr: 6.3627e-05\n",
            "Epoch 118/200\n",
            "161/161 [==============================] - 30s 185ms/step - loss: 0.0034 - accuracy: 0.9993 - val_loss: 0.0162 - val_accuracy: 0.9984 - lr: 6.3627e-05\n",
            "Epoch 119/200\n",
            "161/161 [==============================] - 30s 188ms/step - loss: 0.0028 - accuracy: 0.9994 - val_loss: 0.0158 - val_accuracy: 0.9984 - lr: 5.7264e-05\n",
            "Epoch 120/200\n",
            "161/161 [==============================] - 30s 185ms/step - loss: 0.0015 - accuracy: 0.9996 - val_loss: 0.0163 - val_accuracy: 0.9984 - lr: 5.7264e-05\n",
            "Epoch 121/200\n",
            "161/161 [==============================] - 31s 191ms/step - loss: 0.0013 - accuracy: 0.9998 - val_loss: 0.0156 - val_accuracy: 0.9984 - lr: 5.1538e-05\n",
            "Epoch 122/200\n",
            "161/161 [==============================] - 30s 184ms/step - loss: 0.0010 - accuracy: 0.9996 - val_loss: 0.0131 - val_accuracy: 0.9984 - lr: 5.1538e-05\n",
            "Epoch 123/200\n",
            "161/161 [==============================] - 29s 183ms/step - loss: 9.0289e-04 - accuracy: 0.9998 - val_loss: 0.0139 - val_accuracy: 0.9984 - lr: 4.6384e-05\n",
            "Epoch 124/200\n",
            "161/161 [==============================] - 30s 185ms/step - loss: 0.0025 - accuracy: 0.9998 - val_loss: 0.0159 - val_accuracy: 0.9984 - lr: 4.6384e-05\n",
            "Epoch 125/200\n",
            "161/161 [==============================] - 30s 188ms/step - loss: 0.0057 - accuracy: 0.9992 - val_loss: 0.0197 - val_accuracy: 0.9984 - lr: 4.1746e-05\n",
            "Epoch 126/200\n",
            "161/161 [==============================] - 30s 184ms/step - loss: 0.0024 - accuracy: 0.9995 - val_loss: 0.0229 - val_accuracy: 0.9969 - lr: 4.1746e-05\n",
            "Epoch 127/200\n",
            "161/161 [==============================] - 30s 186ms/step - loss: 9.6203e-04 - accuracy: 0.9999 - val_loss: 0.0213 - val_accuracy: 0.9969 - lr: 3.7571e-05\n",
            "Epoch 128/200\n",
            "161/161 [==============================] - 30s 185ms/step - loss: 8.9709e-04 - accuracy: 0.9999 - val_loss: 0.0202 - val_accuracy: 0.9969 - lr: 3.7571e-05\n",
            "Epoch 129/200\n",
            "161/161 [==============================] - 30s 184ms/step - loss: 0.0022 - accuracy: 0.9995 - val_loss: 0.0213 - val_accuracy: 0.9969 - lr: 3.3814e-05\n",
            "Epoch 130/200\n",
            "161/161 [==============================] - 30s 189ms/step - loss: 0.0014 - accuracy: 0.9995 - val_loss: 0.0195 - val_accuracy: 0.9984 - lr: 3.3814e-05\n",
            "Epoch 131/200\n",
            "161/161 [==============================] - 30s 186ms/step - loss: 0.0027 - accuracy: 0.9995 - val_loss: 0.0196 - val_accuracy: 0.9984 - lr: 3.0433e-05\n",
            "Epoch 132/200\n",
            "161/161 [==============================] - 30s 186ms/step - loss: 5.9666e-04 - accuracy: 0.9998 - val_loss: 0.0198 - val_accuracy: 0.9984 - lr: 3.0433e-05\n",
            "Epoch 133/200\n",
            "161/161 [==============================] - 30s 185ms/step - loss: 0.0011 - accuracy: 0.9997 - val_loss: 0.0188 - val_accuracy: 0.9984 - lr: 2.7389e-05\n",
            "Epoch 134/200\n",
            "161/161 [==============================] - 30s 185ms/step - loss: 0.0017 - accuracy: 0.9997 - val_loss: 0.0199 - val_accuracy: 0.9969 - lr: 2.7389e-05\n",
            "Epoch 135/200\n",
            "161/161 [==============================] - 30s 186ms/step - loss: 0.0010 - accuracy: 0.9998 - val_loss: 0.0191 - val_accuracy: 0.9984 - lr: 2.4650e-05\n",
            "Epoch 136/200\n",
            "161/161 [==============================] - 30s 184ms/step - loss: 8.3139e-04 - accuracy: 0.9998 - val_loss: 0.0187 - val_accuracy: 0.9984 - lr: 2.4650e-05\n",
            "Epoch 137/200\n",
            "161/161 [==============================] - 30s 186ms/step - loss: 9.3204e-04 - accuracy: 0.9996 - val_loss: 0.0197 - val_accuracy: 0.9969 - lr: 2.2185e-05\n",
            "Epoch 138/200\n",
            "161/161 [==============================] - 30s 187ms/step - loss: 0.0012 - accuracy: 0.9996 - val_loss: 0.0174 - val_accuracy: 0.9984 - lr: 2.2185e-05\n",
            "Epoch 139/200\n",
            "161/161 [==============================] - 31s 191ms/step - loss: 0.0012 - accuracy: 0.9997 - val_loss: 0.0177 - val_accuracy: 0.9984 - lr: 1.9967e-05\n",
            "Epoch 140/200\n",
            "161/161 [==============================] - 30s 186ms/step - loss: 9.8203e-04 - accuracy: 0.9998 - val_loss: 0.0156 - val_accuracy: 0.9984 - lr: 1.9967e-05\n",
            "Epoch 141/200\n",
            "161/161 [==============================] - 30s 184ms/step - loss: 7.4064e-04 - accuracy: 0.9998 - val_loss: 0.0160 - val_accuracy: 0.9984 - lr: 1.7970e-05\n",
            "Epoch 142/200\n",
            "161/161 [==============================] - 30s 184ms/step - loss: 0.0014 - accuracy: 0.9998 - val_loss: 0.0156 - val_accuracy: 0.9984 - lr: 1.7970e-05\n",
            "Epoch 143/200\n",
            "161/161 [==============================] - 30s 186ms/step - loss: 5.5923e-04 - accuracy: 0.9999 - val_loss: 0.0159 - val_accuracy: 0.9984 - lr: 1.6173e-05\n",
            "Epoch 144/200\n",
            "161/161 [==============================] - 30s 188ms/step - loss: 0.0012 - accuracy: 0.9996 - val_loss: 0.0155 - val_accuracy: 0.9984 - lr: 1.6173e-05\n",
            "Epoch 145/200\n",
            "161/161 [==============================] - 30s 184ms/step - loss: 0.0021 - accuracy: 0.9995 - val_loss: 0.0157 - val_accuracy: 0.9984 - lr: 1.4556e-05\n",
            "Epoch 146/200\n",
            "161/161 [==============================] - 30s 184ms/step - loss: 0.0011 - accuracy: 0.9998 - val_loss: 0.0157 - val_accuracy: 0.9984 - lr: 1.4556e-05\n",
            "Epoch 147/200\n",
            "161/161 [==============================] - 30s 184ms/step - loss: 0.0020 - accuracy: 0.9995 - val_loss: 0.0153 - val_accuracy: 0.9984 - lr: 1.3100e-05\n",
            "Epoch 148/200\n",
            "161/161 [==============================] - 30s 186ms/step - loss: 9.9896e-04 - accuracy: 0.9998 - val_loss: 0.0155 - val_accuracy: 0.9984 - lr: 1.3100e-05\n",
            "Epoch 149/200\n",
            "161/161 [==============================] - 30s 188ms/step - loss: 0.0012 - accuracy: 0.9998 - val_loss: 0.0158 - val_accuracy: 0.9984 - lr: 1.1790e-05\n",
            "Epoch 150/200\n",
            "161/161 [==============================] - 30s 187ms/step - loss: 0.0011 - accuracy: 0.9997 - val_loss: 0.0144 - val_accuracy: 0.9984 - lr: 1.1790e-05\n",
            "Epoch 151/200\n",
            "161/161 [==============================] - 30s 185ms/step - loss: 9.0318e-04 - accuracy: 0.9997 - val_loss: 0.0160 - val_accuracy: 0.9984 - lr: 1.0611e-05\n",
            "Epoch 152/200\n",
            "161/161 [==============================] - 30s 184ms/step - loss: 5.0655e-04 - accuracy: 0.9999 - val_loss: 0.0160 - val_accuracy: 0.9984 - lr: 1.0611e-05\n",
            "Epoch 153/200\n",
            "161/161 [==============================] - 29s 183ms/step - loss: 0.0019 - accuracy: 0.9994 - val_loss: 0.0161 - val_accuracy: 0.9984 - lr: 9.5501e-06\n",
            "Epoch 154/200\n",
            "161/161 [==============================] - 30s 184ms/step - loss: 0.0041 - accuracy: 0.9996 - val_loss: 0.0156 - val_accuracy: 0.9984 - lr: 9.5501e-06\n",
            "Epoch 155/200\n",
            "161/161 [==============================] - 30s 184ms/step - loss: 0.0011 - accuracy: 0.9998 - val_loss: 0.0157 - val_accuracy: 0.9984 - lr: 8.5950e-06\n",
            "Epoch 156/200\n",
            "161/161 [==============================] - 30s 187ms/step - loss: 0.0018 - accuracy: 0.9996 - val_loss: 0.0159 - val_accuracy: 0.9984 - lr: 8.5950e-06\n",
            "Epoch 157/200\n",
            "161/161 [==============================] - 30s 188ms/step - loss: 0.0028 - accuracy: 0.9997 - val_loss: 0.0152 - val_accuracy: 0.9984 - lr: 7.7355e-06\n",
            "Epoch 158/200\n",
            "161/161 [==============================] - 31s 190ms/step - loss: 0.0014 - accuracy: 0.9997 - val_loss: 0.0158 - val_accuracy: 0.9984 - lr: 7.7355e-06\n",
            "Epoch 159/200\n",
            "161/161 [==============================] - 30s 184ms/step - loss: 2.6547e-04 - accuracy: 1.0000 - val_loss: 0.0151 - val_accuracy: 0.9984 - lr: 6.9620e-06\n",
            "Epoch 160/200\n",
            "161/161 [==============================] - 30s 184ms/step - loss: 6.8441e-04 - accuracy: 0.9998 - val_loss: 0.0156 - val_accuracy: 0.9984 - lr: 6.9620e-06\n",
            "Epoch 161/200\n",
            "161/161 [==============================] - 30s 186ms/step - loss: 3.4331e-04 - accuracy: 0.9999 - val_loss: 0.0160 - val_accuracy: 0.9984 - lr: 6.2658e-06\n",
            "Epoch 162/200\n",
            "161/161 [==============================] - 30s 186ms/step - loss: 0.0019 - accuracy: 0.9997 - val_loss: 0.0151 - val_accuracy: 0.9984 - lr: 6.2658e-06\n",
            "Epoch 163/200\n",
            "161/161 [==============================] - 30s 188ms/step - loss: 0.0016 - accuracy: 0.9993 - val_loss: 0.0150 - val_accuracy: 0.9984 - lr: 5.6392e-06\n",
            "Epoch 164/200\n",
            "161/161 [==============================] - 30s 187ms/step - loss: 5.2394e-04 - accuracy: 0.9998 - val_loss: 0.0152 - val_accuracy: 0.9984 - lr: 5.6392e-06\n",
            "Epoch 165/200\n",
            "161/161 [==============================] - 30s 186ms/step - loss: 0.0011 - accuracy: 0.9997 - val_loss: 0.0150 - val_accuracy: 0.9984 - lr: 5.0753e-06\n",
            "Epoch 166/200\n",
            "161/161 [==============================] - 30s 185ms/step - loss: 0.0018 - accuracy: 0.9996 - val_loss: 0.0153 - val_accuracy: 0.9984 - lr: 5.0753e-06\n",
            "Epoch 167/200\n",
            "161/161 [==============================] - 31s 190ms/step - loss: 0.0016 - accuracy: 0.9997 - val_loss: 0.0158 - val_accuracy: 0.9984 - lr: 4.5678e-06\n",
            "Epoch 168/200\n",
            "161/161 [==============================] - 30s 186ms/step - loss: 0.0012 - accuracy: 0.9997 - val_loss: 0.0154 - val_accuracy: 0.9984 - lr: 4.5678e-06\n",
            "Epoch 169/200\n",
            "161/161 [==============================] - 30s 186ms/step - loss: 7.1641e-04 - accuracy: 0.9999 - val_loss: 0.0156 - val_accuracy: 0.9984 - lr: 4.1110e-06\n",
            "Epoch 170/200\n",
            "161/161 [==============================] - 30s 186ms/step - loss: 0.0012 - accuracy: 0.9997 - val_loss: 0.0156 - val_accuracy: 0.9984 - lr: 4.1110e-06\n",
            "Epoch 171/200\n",
            "161/161 [==============================] - 30s 187ms/step - loss: 0.0011 - accuracy: 0.9997 - val_loss: 0.0152 - val_accuracy: 0.9984 - lr: 3.6999e-06\n",
            "Epoch 172/200\n",
            "161/161 [==============================] - 30s 186ms/step - loss: 4.8136e-04 - accuracy: 0.9999 - val_loss: 0.0147 - val_accuracy: 0.9984 - lr: 3.6999e-06\n",
            "Epoch 173/200\n",
            "161/161 [==============================] - 30s 184ms/step - loss: 3.2267e-04 - accuracy: 1.0000 - val_loss: 0.0157 - val_accuracy: 0.9984 - lr: 3.3299e-06\n",
            "Epoch 174/200\n",
            "161/161 [==============================] - 30s 184ms/step - loss: 0.0022 - accuracy: 0.9995 - val_loss: 0.0153 - val_accuracy: 0.9984 - lr: 3.3299e-06\n",
            "Epoch 175/200\n",
            "161/161 [==============================] - 30s 186ms/step - loss: 0.0018 - accuracy: 0.9997 - val_loss: 0.0156 - val_accuracy: 0.9984 - lr: 2.9969e-06\n",
            "Epoch 176/200\n",
            "161/161 [==============================] - 30s 187ms/step - loss: 0.0011 - accuracy: 0.9998 - val_loss: 0.0152 - val_accuracy: 0.9984 - lr: 2.9969e-06\n",
            "Epoch 177/200\n",
            "161/161 [==============================] - 31s 191ms/step - loss: 0.0013 - accuracy: 0.9998 - val_loss: 0.0151 - val_accuracy: 0.9984 - lr: 2.6972e-06\n",
            "Epoch 178/200\n",
            "161/161 [==============================] - 30s 184ms/step - loss: 2.7240e-04 - accuracy: 1.0000 - val_loss: 0.0148 - val_accuracy: 0.9984 - lr: 2.6972e-06\n",
            "Epoch 179/200\n",
            "161/161 [==============================] - 30s 186ms/step - loss: 9.6096e-04 - accuracy: 0.9998 - val_loss: 0.0154 - val_accuracy: 0.9984 - lr: 2.4275e-06\n",
            "Epoch 180/200\n",
            "161/161 [==============================] - 30s 183ms/step - loss: 9.8240e-04 - accuracy: 0.9997 - val_loss: 0.0158 - val_accuracy: 0.9984 - lr: 2.4275e-06\n",
            "Epoch 181/200\n",
            "161/161 [==============================] - 30s 185ms/step - loss: 0.0019 - accuracy: 0.9995 - val_loss: 0.0151 - val_accuracy: 0.9984 - lr: 2.1847e-06\n",
            "Epoch 182/200\n",
            "161/161 [==============================] - 30s 187ms/step - loss: 0.0014 - accuracy: 0.9997 - val_loss: 0.0148 - val_accuracy: 0.9984 - lr: 2.1847e-06\n",
            "Epoch 183/200\n",
            "161/161 [==============================] - 30s 188ms/step - loss: 0.0024 - accuracy: 0.9996 - val_loss: 0.0157 - val_accuracy: 0.9984 - lr: 1.9663e-06\n",
            "Epoch 184/200\n",
            "161/161 [==============================] - 30s 185ms/step - loss: 5.4058e-04 - accuracy: 0.9999 - val_loss: 0.0159 - val_accuracy: 0.9984 - lr: 1.9663e-06\n",
            "Epoch 185/200\n",
            "161/161 [==============================] - 30s 184ms/step - loss: 0.0018 - accuracy: 0.9996 - val_loss: 0.0155 - val_accuracy: 0.9984 - lr: 1.7696e-06\n",
            "Epoch 186/200\n",
            "161/161 [==============================] - 30s 189ms/step - loss: 0.0012 - accuracy: 0.9997 - val_loss: 0.0155 - val_accuracy: 0.9984 - lr: 1.7696e-06\n",
            "Epoch 187/200\n",
            "161/161 [==============================] - 30s 186ms/step - loss: 0.0014 - accuracy: 0.9997 - val_loss: 0.0154 - val_accuracy: 0.9984 - lr: 1.5927e-06\n",
            "Epoch 188/200\n",
            "161/161 [==============================] - 30s 187ms/step - loss: 0.0027 - accuracy: 0.9994 - val_loss: 0.0160 - val_accuracy: 0.9984 - lr: 1.5927e-06\n",
            "Epoch 189/200\n",
            "161/161 [==============================] - 30s 188ms/step - loss: 8.2066e-04 - accuracy: 0.9999 - val_loss: 0.0158 - val_accuracy: 0.9984 - lr: 1.4334e-06\n",
            "Epoch 190/200\n",
            "161/161 [==============================] - 30s 185ms/step - loss: 7.2624e-04 - accuracy: 0.9999 - val_loss: 0.0155 - val_accuracy: 0.9984 - lr: 1.4334e-06\n",
            "Epoch 191/200\n",
            "161/161 [==============================] - 30s 185ms/step - loss: 0.0012 - accuracy: 0.9997 - val_loss: 0.0163 - val_accuracy: 0.9984 - lr: 1.2901e-06\n",
            "Epoch 192/200\n",
            "161/161 [==============================] - 30s 186ms/step - loss: 5.3889e-04 - accuracy: 0.9998 - val_loss: 0.0149 - val_accuracy: 0.9984 - lr: 1.2901e-06\n",
            "Epoch 193/200\n",
            "161/161 [==============================] - 30s 186ms/step - loss: 0.0010 - accuracy: 0.9998 - val_loss: 0.0153 - val_accuracy: 0.9984 - lr: 1.1611e-06\n",
            "Epoch 194/200\n",
            "161/161 [==============================] - 30s 184ms/step - loss: 0.0015 - accuracy: 0.9998 - val_loss: 0.0151 - val_accuracy: 0.9984 - lr: 1.1611e-06\n",
            "Epoch 195/200\n",
            "161/161 [==============================] - 31s 191ms/step - loss: 8.2374e-04 - accuracy: 0.9998 - val_loss: 0.0153 - val_accuracy: 0.9984 - lr: 1.0450e-06\n",
            "Epoch 196/200\n",
            "161/161 [==============================] - 30s 187ms/step - loss: 6.6195e-04 - accuracy: 0.9999 - val_loss: 0.0149 - val_accuracy: 0.9984 - lr: 1.0450e-06\n",
            "Epoch 197/200\n",
            "161/161 [==============================] - 30s 186ms/step - loss: 4.2003e-04 - accuracy: 1.0000 - val_loss: 0.0156 - val_accuracy: 0.9984 - lr: 9.4046e-07\n",
            "Epoch 198/200\n",
            "161/161 [==============================] - 30s 186ms/step - loss: 3.3048e-04 - accuracy: 1.0000 - val_loss: 0.0150 - val_accuracy: 0.9984 - lr: 9.4046e-07\n",
            "Epoch 199/200\n",
            "161/161 [==============================] - 29s 183ms/step - loss: 0.0013 - accuracy: 0.9996 - val_loss: 0.0155 - val_accuracy: 0.9984 - lr: 8.4642e-07\n",
            "Epoch 200/200\n",
            "161/161 [==============================] - 30s 184ms/step - loss: 0.0014 - accuracy: 0.9998 - val_loss: 0.0154 - val_accuracy: 0.9984 - lr: 8.4642e-07\n"
          ]
        }
      ],
      "source": [
        "#train model\n",
        "history=model.fit(X_train,y_train, epochs=200, batch_size=64,validation_data=(X_val,y_val),callbacks=[reduce_lr], shuffle=True)"
      ]
    },
    {
      "cell_type": "markdown",
      "metadata": {
        "id": "POYn3aiJYQOq"
      },
      "source": [
        "# Evaluation"
      ]
    },
    {
      "cell_type": "code",
      "execution_count": null,
      "metadata": {
        "id": "EVMHczgmYS70",
        "colab": {
          "base_uri": "https://localhost:8080/",
          "height": 927
        },
        "outputId": "c86cb308-1424-418c-f128-ec2a18dee96e"
      },
      "outputs": [
        {
          "output_type": "display_data",
          "data": {
            "text/plain": [
              "<Figure size 640x480 with 1 Axes>"
            ],
            "image/png": "[encoded data removed]"
          },
          "metadata": {}
        },
        {
          "output_type": "display_data",
          "data": {
            "text/plain": [
              "<Figure size 640x480 with 1 Axes>"
            ],
            "image/png": "[encoded data removed]"
          },
          "metadata": {}
        }
      ],
      "source": [
        "#  \"Accuracy\"\n",
        "plt.plot(history.history['accuracy'])\n",
        "plt.plot(history.history['val_accuracy'])\n",
        "plt.title('model accuracy')\n",
        "plt.ylabel('accuracy')\n",
        "plt.xlabel('epoch')\n",
        "plt.legend(['train', 'validation'], loc='lower right')\n",
        "plt.show()\n",
        "# \"Loss\"\n",
        "plt.plot(history.history['loss'])\n",
        "plt.plot(history.history['val_loss'])\n",
        "plt.title('model loss')\n",
        "plt.ylabel('loss')\n",
        "plt.xlabel('epoch')\n",
        "plt.legend(['train', 'validation'], loc='lower right')\n",
        "plt.show()"
      ]
    },
    {
      "cell_type": "code",
      "execution_count": null,
      "metadata": {
        "id": "9t1ckIldYYWv",
        "colab": {
          "base_uri": "https://localhost:8080/"
        },
        "outputId": "f088abb6-89a3-4442-e762-9625631bc88e"
      },
      "outputs": [
        {
          "output_type": "stream",
          "name": "stdout",
          "text": [
            "81/81 [==============================] - 5s 29ms/step\n"
          ]
        }
      ],
      "source": [
        "#predict test datas\n",
        "y_pred = model.predict(X_test)"
      ]
    },
    {
      "cell_type": "code",
      "execution_count": null,
      "metadata": {
        "id": "b5fvPrS_lpFF"
      },
      "outputs": [],
      "source": [
        "y_pred=np.argmax(y_pred, axis=1)"
      ]
    },
    {
      "cell_type": "code",
      "source": [
        "y_test2=np.array(y_test.values.tolist())\n",
        "y_test2=y_test2.argmax(axis=1)"
      ],
      "metadata": {
        "id": "_V0mlvVJHpfv"
      },
      "execution_count": null,
      "outputs": []
    },
    {
      "cell_type": "code",
      "execution_count": null,
      "metadata": {
        "id": "JxFANzyzLV4I",
        "colab": {
          "base_uri": "https://localhost:8080/",
          "height": 914
        },
        "outputId": "7e59be23-07c2-46f6-8986-e94c0af3586b"
      },
      "outputs": [
        {
          "output_type": "display_data",
          "data": {
            "text/plain": [
              "<Figure size 1000x1000 with 1 Axes>"
            ],
            "image/png": "[encoded data removed]"
          },
          "metadata": {}
        }
      ],
      "source": [
        "#plot confusion_matrix\n",
        "from sklearn.metrics import confusion_matrix\n",
        "import seaborn as sns\n",
        "CM = confusion_matrix(y_test2,y_pred)\n",
        "plt.figure(figsize=(10,10))\n",
        "sns.heatmap(CM, cmap='Blues', annot=True, cbar=False, fmt=\".0f\",xticklabels=2, yticklabels=2)\n",
        "plt.xlabel('Predicted Label', labelpad=20)\n",
        "plt.ylabel('True Label', labelpad=20)\n",
        "plt.title('Confusion Matrix', fontsize=30);"
      ]
    },
    {
      "cell_type": "code",
      "execution_count": null,
      "metadata": {
        "id": "2w31n6DJ7uSF",
        "colab": {
          "base_uri": "https://localhost:8080/"
        },
        "outputId": "3091a9a1-3628-42da-ed61-695ea50993b0"
      },
      "outputs": [
        {
          "output_type": "execute_result",
          "data": {
            "text/plain": [
              "1.0"
            ]
          },
          "metadata": {},
          "execution_count": 39
        }
      ],
      "source": [
        "#model accuracy score\n",
        "from sklearn.metrics import accuracy_score\n",
        "accuracy_score(y_test2, y_pred)"
      ]
    },
    {
      "cell_type": "code",
      "execution_count": null,
      "metadata": {
        "id": "yZq49sc572tK",
        "colab": {
          "base_uri": "https://localhost:8080/"
        },
        "outputId": "61099a4b-c726-482d-fafc-60c3b71d90f1"
      },
      "outputs": [
        {
          "output_type": "execute_result",
          "data": {
            "text/plain": [
              "1.0"
            ]
          },
          "metadata": {},
          "execution_count": 40
        }
      ],
      "source": [
        "#model precision score\n",
        "from sklearn.metrics import precision_score\n",
        "precision_score(y_test2, y_pred,average='weighted')"
      ]
    },
    {
      "cell_type": "code",
      "execution_count": null,
      "metadata": {
        "id": "mQMYVOVE9Uyl",
        "colab": {
          "base_uri": "https://localhost:8080/"
        },
        "outputId": "e0b84ff2-8ae1-4c35-c7d4-93be542b26d1"
      },
      "outputs": [
        {
          "output_type": "execute_result",
          "data": {
            "text/plain": [
              "1.0"
            ]
          },
          "metadata": {},
          "execution_count": 41
        }
      ],
      "source": [
        "#model recall score\n",
        "from sklearn.metrics import recall_score\n",
        "recall_score(y_test2, y_pred,average='weighted')"
      ]
    },
    {
      "cell_type": "code",
      "execution_count": null,
      "metadata": {
        "id": "KHN3OA0f_hCr",
        "colab": {
          "base_uri": "https://localhost:8080/"
        },
        "outputId": "c1c47b43-a718-401f-9d44-8ba95742c810"
      },
      "outputs": [
        {
          "output_type": "execute_result",
          "data": {
            "text/plain": [
              "1.0"
            ]
          },
          "metadata": {},
          "execution_count": 42
        }
      ],
      "source": [
        "#model f1 score\n",
        "from sklearn.metrics import f1_score\n",
        "f1_score(y_test2, y_pred,average='weighted')"
      ]
    },
    {
      "cell_type": "code",
      "source": [
        "#model loss\n",
        "from sklearn.metrics import zero_one_loss\n",
        "zero_one_loss(y_test2, y_pred)"
      ],
      "metadata": {
        "colab": {
          "base_uri": "https://localhost:8080/"
        },
        "id": "GMTEw-g2JSZV",
        "outputId": "1387cc8c-e431-4643-c827-d761453b0003"
      },
      "execution_count": null,
      "outputs": [
        {
          "output_type": "execute_result",
          "data": {
            "text/plain": [
              "0.0"
            ]
          },
          "metadata": {},
          "execution_count": 43
        }
      ]
    }
  ]
}